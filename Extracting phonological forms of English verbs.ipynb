{
 "cells": [
  {
   "cell_type": "code",
   "execution_count": 1,
   "metadata": {
    "ExecuteTime": {
     "end_time": "2019-05-14T21:38:15.415498Z",
     "start_time": "2019-05-14T21:38:15.412517Z"
    }
   },
   "outputs": [],
   "source": [
    "#Prints **all** console output, not just last item in cell \n",
    "from IPython.core.interactiveshell import InteractiveShell\n",
    "InteractiveShell.ast_node_interactivity = \"all\""
   ]
  },
  {
   "cell_type": "markdown",
   "metadata": {},
   "source": [
    "**Notebook author:** emeinhardt@ucsd.edu"
   ]
  },
  {
   "cell_type": "markdown",
   "metadata": {
    "toc": true
   },
   "source": [
    "<h1>Table of Contents<span class=\"tocSkip\"></span></h1>\n",
    "<div class=\"toc\"><ul class=\"toc-item\"><li><span><a href=\"#Extract-present/past-tense-orthography-pairings\" data-toc-modified-id=\"Extract-present/past-tense-orthography-pairings-1\"><span class=\"toc-item-num\">1&nbsp;&nbsp;</span>Extract present/past tense orthography pairings</a></span></li><li><span><a href=\"#Grab-Transcriptions-from-CMU\" data-toc-modified-id=\"Grab-Transcriptions-from-CMU-2\"><span class=\"toc-item-num\">2&nbsp;&nbsp;</span>Grab Transcriptions from CMU</a></span></li><li><span><a href=\"#Aligning-the-morphological-DB-with-the-CMU-dictionary\" data-toc-modified-id=\"Aligning-the-morphological-DB-with-the-CMU-dictionary-3\"><span class=\"toc-item-num\">3&nbsp;&nbsp;</span>Aligning the morphological DB with the CMU dictionary</a></span><ul class=\"toc-item\"><li><span><a href=\"#Export-to-file\" data-toc-modified-id=\"Export-to-file-3.1\"><span class=\"toc-item-num\">3.1&nbsp;&nbsp;</span>Export to file</a></span></li></ul></li></ul></div>"
   ]
  },
  {
   "cell_type": "markdown",
   "metadata": {},
   "source": [
    "# Extract present/past tense orthography pairings"
   ]
  },
  {
   "cell_type": "markdown",
   "metadata": {},
   "source": [
    "Past/present tense pairings taken from \n",
    " - http://www.linguistics.ucla.edu/people/hayes/rulesvsanalogy/RuleBasedLearnerEnglish.zip"
   ]
  },
  {
   "cell_type": "code",
   "execution_count": 2,
   "metadata": {
    "ExecuteTime": {
     "end_time": "2019-05-14T21:38:15.466016Z",
     "start_time": "2019-05-14T21:38:15.420555Z"
    }
   },
   "outputs": [],
   "source": [
    "import csv"
   ]
  },
  {
   "cell_type": "code",
   "execution_count": 3,
   "metadata": {
    "ExecuteTime": {
     "end_time": "2019-05-14T21:38:15.580876Z",
     "start_time": "2019-05-14T21:38:15.468203Z"
    }
   },
   "outputs": [
    {
     "name": "stdout",
     "output_type": "stream",
     "text": [
      " CELEXFull.in\r\n",
      " CELEXFull_w_CMU_transcriptions.tsv\r\n",
      " cmudict-0.7b_IPA_destressed.tsv\r\n",
      " EngVrbs_present_past.tsv\r\n",
      "'Extracting phonological forms of English verbs.ipynb'\r\n"
     ]
    }
   ],
   "source": [
    "%ls"
   ]
  },
  {
   "cell_type": "code",
   "execution_count": 4,
   "metadata": {
    "ExecuteTime": {
     "end_time": "2019-05-14T21:38:15.585391Z",
     "start_time": "2019-05-14T21:38:15.582835Z"
    }
   },
   "outputs": [],
   "source": [
    "db_fn = 'CELEXFull.in'"
   ]
  },
  {
   "cell_type": "code",
   "execution_count": 5,
   "metadata": {
    "ExecuteTime": {
     "end_time": "2019-05-14T21:38:15.700338Z",
     "start_time": "2019-05-14T21:38:15.588181Z"
    }
   },
   "outputs": [
    {
     "name": "stdout",
     "output_type": "stream",
     "text": [
      "     1\tPhonological Learner File\r",
      "\r\n",
      "     2\tAdam Albright/Bruce Hayes\r",
      "\r\n",
      "     3\tEnglish:  CELEX freq 10 or greater\r",
      "\r\n",
      "     4\tTue Apr 21 21:27:37  2001\r",
      "\r\n",
      "     5\tTue Apr 21 21:27:37  2001\r",
      "\r\n",
      "     6\tThis is a new data set of all the verbs in CELEX with COBUILD freq 10 or higher.\r",
      "\r\n",
      "     7\tMorphological categories:\r",
      "\r\n",
      "     8\t\tPresent\tPast\r",
      "\r\n",
      "     9\tInput forms:\r",
      "\r\n",
      "    10\td�u\td�Id\t80717\tdo\tdid\tirreg\r",
      "\r\n",
      "    11\ts�e\ts�Ed\t76541\tsay\tsaid\tirreg\r",
      "\r\n",
      "    12\tg�o\tw�Ent\t51830\tgo\twent\tirreg\r",
      "\r\n",
      "    13\tg�Et\tg�at\t42717\tget\tgot\tirreg\r",
      "\r\n",
      "    14\tn�o\tn�u\t38013\tknow\tknew\tirreg\r",
      "\r\n",
      "    15\ts�i\tsȍ\t36958\tsee\tsaw\tirreg\r",
      "\r\n",
      "    16\tT�INk\tTȍt\t35874\tthink\tthought\tirreg\r",
      "\r\n",
      "    17\tk��m\tk�em\t35152\tcome\tcame\tirreg\r",
      "\r\n",
      "    18\tt�ek\tt�Uk\t34323\ttake\ttook\tirreg\r",
      "\r\n",
      "    19\tl�Uk\tl�Ukt\t24165\tlook\tlooked\treg\r",
      "\r\n",
      "    20\tg�Iv\tg�ev\t22921\tgive\tgave\tirreg\r",
      "\r\n",
      "    21\twȍnt\twȍnt�d\t20077\twant\twanted\treg\r",
      "\r\n",
      "    22\tf�Ynd\tf�Wnd\t19525\tfind\tfound\tirreg\r",
      "\r\n",
      "    23\tt�El\tt�old\t19040\ttell\ttold\tirreg\r",
      "\r\n",
      "    24\ts�im\ts�imd\t15911\tseem\tseemed\treg\r",
      "\r\n",
      "    25\tf�il\tf�Elt\t15489\tfeel\tfelt\tirreg\r",
      "\r\n",
      "    26\tbIk��m\tbIk�em\t14957\tbecome\tbecame\tirreg\r",
      "\r\n",
      "    27\t�Qsk\t�Qskt\t14651\task\tasked\treg\r",
      "\r\n",
      "    28\tp�Ut\tp�Ut\t14426\tput\t\tirreg\r",
      "\r\n",
      "    29\tj�uz\tj�uzd\t14307\tuse\tused\treg\r",
      "\r\n",
      "    30\tl�iv\tl�Eft\t14042\tleave\tleft\tirreg\r",
      "\r\n",
      "cat: write error: Broken pipe\r\n"
     ]
    }
   ],
   "source": [
    "!cat -n CELEXFull.in | head -30"
   ]
  },
  {
   "cell_type": "code",
   "execution_count": 6,
   "metadata": {
    "ExecuteTime": {
     "end_time": "2019-05-14T21:38:15.712727Z",
     "start_time": "2019-05-14T21:38:15.703144Z"
    }
   },
   "outputs": [],
   "source": [
    "db_in = []\n",
    "with open(db_fn, 'r', encoding='latin-1') as the_file:\n",
    "    for row in the_file:\n",
    "        db_in.append(row.rstrip('\\n'))#(row.rstrip('\\r\\n'))"
   ]
  },
  {
   "cell_type": "code",
   "execution_count": 7,
   "metadata": {
    "ExecuteTime": {
     "end_time": "2019-05-14T21:38:15.720711Z",
     "start_time": "2019-05-14T21:38:15.713671Z"
    }
   },
   "outputs": [
    {
     "data": {
      "text/plain": [
       "['Phonological Learner File',\n",
       " 'Adam Albright/Bruce Hayes',\n",
       " 'English:  CELEX freq 10 or greater',\n",
       " 'Tue Apr 21 21:27:37  2001',\n",
       " 'Tue Apr 21 21:27:37  2001',\n",
       " 'This is a new data set of all the verbs in CELEX with COBUILD freq 10 or higher.',\n",
       " 'Morphological categories:',\n",
       " '\\tPresent\\tPast',\n",
       " 'Input forms:',\n",
       " 'dÈu\\tdÈId\\t80717\\tdo\\tdid\\tirreg']"
      ]
     },
     "execution_count": 7,
     "metadata": {},
     "output_type": "execute_result"
    }
   ],
   "source": [
    "db_in[:10]"
   ]
  },
  {
   "cell_type": "code",
   "execution_count": 8,
   "metadata": {
    "ExecuteTime": {
     "end_time": "2019-05-14T21:38:15.727115Z",
     "start_time": "2019-05-14T21:38:15.721881Z"
    }
   },
   "outputs": [
    {
     "data": {
      "text/plain": [
       "['dÈu\\tdÈId\\t80717\\tdo\\tdid\\tirreg',\n",
       " 'sÈe\\tsÈEd\\t76541\\tsay\\tsaid\\tirreg',\n",
       " 'gÈo\\twÈEnt\\t51830\\tgo\\twent\\tirreg',\n",
       " 'gÈEt\\tgÈat\\t42717\\tget\\tgot\\tirreg',\n",
       " 'nÈo\\tnÈu\\t38013\\tknow\\tknew\\tirreg',\n",
       " 'sÈi\\tsÈ\\x8d\\t36958\\tsee\\tsaw\\tirreg',\n",
       " 'TÈINk\\tTÈ\\x8dt\\t35874\\tthink\\tthought\\tirreg',\n",
       " 'kÈÃm\\tkÈem\\t35152\\tcome\\tcame\\tirreg',\n",
       " 'tÈek\\ttÈUk\\t34323\\ttake\\ttook\\tirreg',\n",
       " 'lÈUk\\tlÈUkt\\t24165\\tlook\\tlooked\\treg']"
      ]
     },
     "execution_count": 8,
     "metadata": {},
     "output_type": "execute_result"
    }
   ],
   "source": [
    "db_in[9:19]"
   ]
  },
  {
   "cell_type": "code",
   "execution_count": 9,
   "metadata": {
    "ExecuteTime": {
     "end_time": "2019-05-14T21:38:15.732269Z",
     "start_time": "2019-05-14T21:38:15.727991Z"
    }
   },
   "outputs": [],
   "source": [
    "db = db_in[9:]"
   ]
  },
  {
   "cell_type": "code",
   "execution_count": 10,
   "metadata": {
    "ExecuteTime": {
     "end_time": "2019-05-14T21:38:15.740971Z",
     "start_time": "2019-05-14T21:38:15.733577Z"
    }
   },
   "outputs": [
    {
     "data": {
      "text/plain": [
       "'sÈe\\tsÈEd\\t76541\\tsay\\tsaid\\tirreg'"
      ]
     },
     "execution_count": 10,
     "metadata": {},
     "output_type": "execute_result"
    },
    {
     "data": {
      "text/plain": [
       "['sÈe', 'sÈEd', '76541', 'say', 'said', 'irreg']"
      ]
     },
     "execution_count": 10,
     "metadata": {},
     "output_type": "execute_result"
    }
   ],
   "source": [
    "db[1]\n",
    "db[1].split('\\t')"
   ]
  },
  {
   "cell_type": "code",
   "execution_count": 11,
   "metadata": {
    "ExecuteTime": {
     "end_time": "2019-05-14T21:38:15.745021Z",
     "start_time": "2019-05-14T21:38:15.742158Z"
    }
   },
   "outputs": [
    {
     "data": {
      "text/plain": [
       "4489"
      ]
     },
     "execution_count": 11,
     "metadata": {},
     "output_type": "execute_result"
    }
   ],
   "source": [
    "len(db)"
   ]
  },
  {
   "cell_type": "code",
   "execution_count": 12,
   "metadata": {
    "ExecuteTime": {
     "end_time": "2019-05-14T21:38:15.751381Z",
     "start_time": "2019-05-14T21:38:15.746382Z"
    }
   },
   "outputs": [
    {
     "data": {
      "text/plain": [
       "['swÈab\\tswÈabd\\t10\\tswab\\tswabbed\\treg',\n",
       " 'swÈat\\tswÈat«d\\t10\\tswot\\tswotted\\treg',\n",
       " 'tÈo\\ttÈod\\t10\\ttoe\\t\\treg',\n",
       " 'trÈ\\x8dl\\ttrÈ\\x8dld\\t10\\ttrawl\\ttrawled\\treg',\n",
       " 'ÃndÕplÈe\\tÃndÕplÈed\\t10\\tunderplay\\tunderplayed\\treg',\n",
       " 'ÃpbrÈed\\tÃpbrÈed«d\\t10\\tupbraid\\tupbraided\\treg',\n",
       " 'vÈ\\x8dnt\\tvÈ\\x8dnt«d\\t10\\tvaunt\\tvaunted\\treg',\n",
       " 'vÈEJItet\\tvÈEJItet«d\\t10\\tvegetate\\tvegetated\\treg',\n",
       " 'vÈali\\tvÈalid\\t10\\tvolley\\tvolleyed\\treg',\n",
       " 'wÈInC\\twÈInCt\\t10\\twinch\\twinched\\treg',\n",
       " 'Test forms:',\n",
       " 'splÈIN',\n",
       " 'skrÈIN',\n",
       " 'sprÈINk',\n",
       " 'klÈid',\n",
       " 'prÈid',\n",
       " 'kwÈid',\n",
       " 'klÈo',\n",
       " 'frÈo',\n",
       " 'plÈer']"
      ]
     },
     "execution_count": 12,
     "metadata": {},
     "output_type": "execute_result"
    }
   ],
   "source": [
    "db[4243:4263]"
   ]
  },
  {
   "cell_type": "code",
   "execution_count": 13,
   "metadata": {
    "ExecuteTime": {
     "end_time": "2019-05-14T21:38:15.758707Z",
     "start_time": "2019-05-14T21:38:15.752583Z"
    }
   },
   "outputs": [
    {
     "data": {
      "text/plain": [
       "['Test forms:',\n",
       " 'splÈIN',\n",
       " 'skrÈIN',\n",
       " 'sprÈINk',\n",
       " 'klÈid',\n",
       " 'prÈid',\n",
       " 'kwÈid',\n",
       " 'klÈo',\n",
       " 'frÈo',\n",
       " 'plÈer']"
      ]
     },
     "execution_count": 13,
     "metadata": {},
     "output_type": "execute_result"
    }
   ],
   "source": [
    "db[4253:4263]"
   ]
  },
  {
   "cell_type": "code",
   "execution_count": 14,
   "metadata": {
    "ExecuteTime": {
     "end_time": "2019-05-14T21:38:15.765643Z",
     "start_time": "2019-05-14T21:38:15.759944Z"
    }
   },
   "outputs": [
    {
     "data": {
      "text/plain": [
       "'wÈInC\\twÈInCt\\t10\\twinch\\twinched\\treg'"
      ]
     },
     "execution_count": 14,
     "metadata": {},
     "output_type": "execute_result"
    }
   ],
   "source": [
    "db = db[:4253]\n",
    "db[-1]"
   ]
  },
  {
   "cell_type": "code",
   "execution_count": 15,
   "metadata": {
    "ExecuteTime": {
     "end_time": "2019-05-14T21:38:15.770666Z",
     "start_time": "2019-05-14T21:38:15.766980Z"
    }
   },
   "outputs": [
    {
     "data": {
      "text/plain": [
       "4253"
      ]
     },
     "execution_count": 15,
     "metadata": {},
     "output_type": "execute_result"
    }
   ],
   "source": [
    "len(db)"
   ]
  },
  {
   "cell_type": "code",
   "execution_count": 16,
   "metadata": {
    "ExecuteTime": {
     "end_time": "2019-05-14T21:38:15.776550Z",
     "start_time": "2019-05-14T21:38:15.771891Z"
    }
   },
   "outputs": [],
   "source": [
    "def process_line(l):\n",
    "    columns = l.split('\\t')\n",
    "    present_transcription = columns[0]\n",
    "    past_transcription = columns[1]\n",
    "    count = columns[2]\n",
    "    present_orthography = columns[3]\n",
    "    past_orthography = columns[4]\n",
    "    regular_or_irregular = columns[5]\n",
    "    return {'Present_Transcription':columns[0],\n",
    "            'Past_Transcription':columns[1],\n",
    "            'Count':columns[2],\n",
    "            'Present_Orthography':columns[3],\n",
    "            'Past_Orthography':columns[4],\n",
    "            'Regular_or_Irregular':columns[5]}\n"
   ]
  },
  {
   "cell_type": "code",
   "execution_count": 17,
   "metadata": {
    "ExecuteTime": {
     "end_time": "2019-05-14T21:38:15.790554Z",
     "start_time": "2019-05-14T21:38:15.777857Z"
    }
   },
   "outputs": [
    {
     "data": {
      "text/plain": [
       "4253"
      ]
     },
     "execution_count": 17,
     "metadata": {},
     "output_type": "execute_result"
    }
   ],
   "source": [
    "morph_db = list(map(process_line,\n",
    "                    db))\n",
    "len(morph_db)"
   ]
  },
  {
   "cell_type": "code",
   "execution_count": 18,
   "metadata": {
    "ExecuteTime": {
     "end_time": "2019-05-14T21:38:15.795781Z",
     "start_time": "2019-05-14T21:38:15.791972Z"
    }
   },
   "outputs": [
    {
     "data": {
      "text/plain": [
       "{'Present_Transcription': 'dÈu',\n",
       " 'Past_Transcription': 'dÈId',\n",
       " 'Count': '80717',\n",
       " 'Present_Orthography': 'do',\n",
       " 'Past_Orthography': 'did',\n",
       " 'Regular_or_Irregular': 'irreg'}"
      ]
     },
     "execution_count": 18,
     "metadata": {},
     "output_type": "execute_result"
    }
   ],
   "source": [
    "morph_db[0]"
   ]
  },
  {
   "cell_type": "code",
   "execution_count": 19,
   "metadata": {
    "ExecuteTime": {
     "end_time": "2019-05-14T21:38:15.805268Z",
     "start_time": "2019-05-14T21:38:15.799614Z"
    }
   },
   "outputs": [
    {
     "data": {
      "text/plain": [
       "8443"
      ]
     },
     "execution_count": 19,
     "metadata": {},
     "output_type": "execute_result"
    }
   ],
   "source": [
    "orthographic_wordforms = set.union( set(map(lambda row: row['Present_Orthography'],\n",
    "                                            morph_db)),\n",
    "                                    set(map(lambda row: row['Past_Orthography'],\n",
    "                                            morph_db)))\n",
    "len(orthographic_wordforms)"
   ]
  },
  {
   "cell_type": "markdown",
   "metadata": {},
   "source": [
    "# Grab Transcriptions from CMU"
   ]
  },
  {
   "cell_type": "markdown",
   "metadata": {},
   "source": [
    "The copy of the CMU dictionary used here was generated as described at https://github.com/emeinhardt/cmu-ipa."
   ]
  },
  {
   "cell_type": "code",
   "execution_count": 20,
   "metadata": {
    "ExecuteTime": {
     "end_time": "2019-05-14T21:38:15.918612Z",
     "start_time": "2019-05-14T21:38:15.806594Z"
    }
   },
   "outputs": [
    {
     "name": "stdout",
     "output_type": "stream",
     "text": [
      " CELEXFull.in\r\n",
      " CELEXFull_w_CMU_transcriptions.tsv\r\n",
      " cmudict-0.7b_IPA_destressed.tsv\r\n",
      " EngVrbs_present_past.tsv\r\n",
      "'Extracting phonological forms of English verbs.ipynb'\r\n"
     ]
    }
   ],
   "source": [
    "%ls"
   ]
  },
  {
   "cell_type": "code",
   "execution_count": 21,
   "metadata": {
    "ExecuteTime": {
     "end_time": "2019-05-14T21:38:15.923257Z",
     "start_time": "2019-05-14T21:38:15.920707Z"
    }
   },
   "outputs": [],
   "source": [
    "transcription_lexicon_fn = 'cmudict-0.7b_IPA_destressed.tsv'"
   ]
  },
  {
   "cell_type": "code",
   "execution_count": 22,
   "metadata": {
    "ExecuteTime": {
     "end_time": "2019-05-14T21:38:16.400939Z",
     "start_time": "2019-05-14T21:38:15.925011Z"
    }
   },
   "outputs": [
    {
     "data": {
      "text/plain": [
       "133854"
      ]
     },
     "execution_count": 22,
     "metadata": {},
     "output_type": "execute_result"
    },
    {
     "data": {
      "text/plain": [
       "odict_keys(['Orthography', 'Transcription'])"
      ]
     },
     "execution_count": 22,
     "metadata": {},
     "output_type": "execute_result"
    },
    {
     "data": {
      "text/plain": [
       "OrderedDict([('Orthography', '!EXCLAMATION-POINT'),\n",
       "             ('Transcription', 'ɛ.k.s.k.l.ʌ.m.eɪ.ʃ.ʌ.n.p.ɔɪ.n.t')])"
      ]
     },
     "execution_count": 22,
     "metadata": {},
     "output_type": "execute_result"
    }
   ],
   "source": [
    "lexicon_in = []\n",
    "with open(transcription_lexicon_fn, 'r', newline='', encoding='utf-8') as csvfile:\n",
    "    my_reader = csv.DictReader(csvfile, delimiter='\\t', quoting=csv.QUOTE_NONE, quotechar='@')\n",
    "    for row in my_reader:\n",
    "        #print(row)\n",
    "        lexicon_in.append(row)\n",
    "\n",
    "len(lexicon_in)\n",
    "lexicon_in[0].keys()\n",
    "lexicon_in[0]"
   ]
  },
  {
   "cell_type": "code",
   "execution_count": 23,
   "metadata": {
    "ExecuteTime": {
     "end_time": "2019-05-14T21:38:16.440212Z",
     "start_time": "2019-05-14T21:38:16.402261Z"
    }
   },
   "outputs": [
    {
     "data": {
      "text/plain": [
       "133854"
      ]
     },
     "execution_count": 23,
     "metadata": {},
     "output_type": "execute_result"
    }
   ],
   "source": [
    "transcription_orthographic_wordforms_lc = set(map(lambda row: row['Orthography'].lower(),\n",
    "                                                  lexicon_in))\n",
    "len(transcription_orthographic_wordforms_lc)"
   ]
  },
  {
   "cell_type": "code",
   "execution_count": 24,
   "metadata": {
    "ExecuteTime": {
     "end_time": "2019-05-14T21:38:16.454665Z",
     "start_time": "2019-05-14T21:38:16.441664Z"
    }
   },
   "outputs": [
    {
     "data": {
      "text/plain": [
       "822"
      ]
     },
     "execution_count": 24,
     "metadata": {},
     "output_type": "execute_result"
    },
    {
     "data": {
      "text/plain": [
       "{'',\n",
       " 'KO',\n",
       " \"KO'd\",\n",
       " 'absented',\n",
       " 'acclimatize',\n",
       " 'acclimatized',\n",
       " 'adduce',\n",
       " 'adduced',\n",
       " 'adjoined',\n",
       " 'adjure',\n",
       " 'adjured',\n",
       " 'aerate',\n",
       " 'aerated',\n",
       " 'ailed',\n",
       " 'alighted',\n",
       " 'anaesthetize',\n",
       " 'anaesthetized',\n",
       " 'analyse',\n",
       " 'analysed',\n",
       " 'antedate',\n",
       " 'antedated',\n",
       " 'aped',\n",
       " 'appal',\n",
       " 'arrogated',\n",
       " 'articled',\n",
       " 'asphalted',\n",
       " 'assented',\n",
       " 'atoned',\n",
       " 'averred',\n",
       " 'backslid',\n",
       " 'balloted',\n",
       " 'banqueted',\n",
       " 'bayoneted',\n",
       " 'bedevilled',\n",
       " 'befitted',\n",
       " 'begrudged',\n",
       " 'belay',\n",
       " 'belayed',\n",
       " 'besought',\n",
       " 'bespoke',\n",
       " 'bestride',\n",
       " 'betoken',\n",
       " 'betokened',\n",
       " 'betted',\n",
       " 'biassed',\n",
       " 'billeted',\n",
       " 'bisect',\n",
       " 'bisected',\n",
       " 'bitched',\n",
       " 'bivouacked',\n",
       " 'blanched',\n",
       " 'bleat',\n",
       " 'bleated',\n",
       " 'blubbered',\n",
       " 'blustered',\n",
       " 'bobbed',\n",
       " 'boded',\n",
       " 'boozed',\n",
       " 'bopped',\n",
       " 'bottle-fed',\n",
       " 'bottle-feed',\n",
       " 'bracketed',\n",
       " 'brayed',\n",
       " 'breakfasted',\n",
       " 'broadcasted',\n",
       " 'brooked',\n",
       " 'budded',\n",
       " 'buggered',\n",
       " 'bumbled',\n",
       " 'bunged',\n",
       " 'bungle',\n",
       " 'burgle',\n",
       " 'burgled',\n",
       " 'burked',\n",
       " 'burped',\n",
       " 'burrowed',\n",
       " 'bustled',\n",
       " 'butted',\n",
       " 'cackled',\n",
       " 'cadge',\n",
       " 'cadged',\n",
       " 'calve',\n",
       " 'calved',\n",
       " 'canted',\n",
       " 'cantered',\n",
       " 'caparison',\n",
       " 'caparisoned',\n",
       " 'capered',\n",
       " 'captained',\n",
       " 'careered',\n",
       " 'caroused',\n",
       " 'carped',\n",
       " 'cased',\n",
       " 'cavorted',\n",
       " 'cawed',\n",
       " 'centred',\n",
       " 'chaffed',\n",
       " 'chain-smoke',\n",
       " 'chain-smoked',\n",
       " 'chanced',\n",
       " 'channelled',\n",
       " 'chaperon',\n",
       " 'chaperoned',\n",
       " 'chapped',\n",
       " 'chattered',\n",
       " 'chequer',\n",
       " 'chequered',\n",
       " 'chirped',\n",
       " 'chiselled',\n",
       " 'chomped',\n",
       " 'chorused',\n",
       " 'ciphered',\n",
       " 'clacked',\n",
       " 'clamoured',\n",
       " 'clanged',\n",
       " 'clanked',\n",
       " 'clattered',\n",
       " 'cleaved',\n",
       " 'clerked',\n",
       " 'clinked',\n",
       " 'clouted',\n",
       " 'clowned',\n",
       " 'cloyed',\n",
       " 'clucked',\n",
       " 'clumped',\n",
       " 'co-ordinate',\n",
       " 'co-ordinated',\n",
       " 'coagulated',\n",
       " 'coaled',\n",
       " 'coarsen',\n",
       " 'coarsened',\n",
       " 'cocooned',\n",
       " 'collated',\n",
       " 'combatted',\n",
       " 'communed',\n",
       " 'composted',\n",
       " 'condescended',\n",
       " 'conjectured',\n",
       " 'connived',\n",
       " 'connoted',\n",
       " 'contravened',\n",
       " 'convalesced',\n",
       " 'convulse',\n",
       " 'convulsed',\n",
       " 'cooed',\n",
       " 'copulated',\n",
       " 'corned',\n",
       " 'cosseted',\n",
       " 'counselled',\n",
       " 'countervailed',\n",
       " 'coursed',\n",
       " 'cowered',\n",
       " 'cradled',\n",
       " 'crapped',\n",
       " 'crated',\n",
       " 'creased',\n",
       " 'crinkle',\n",
       " 'crinkled',\n",
       " 'croaked',\n",
       " 'crooned',\n",
       " 'cross-examine',\n",
       " 'cross-examined',\n",
       " 'crusaded',\n",
       " 'cupped',\n",
       " 'curdle',\n",
       " 'curdled',\n",
       " 'curtained',\n",
       " 'curtsied',\n",
       " 'dabbed',\n",
       " 'dandle',\n",
       " 'dandled',\n",
       " 'dapple',\n",
       " 'dappled',\n",
       " 'dawdled',\n",
       " 'deadened',\n",
       " 'deafened',\n",
       " 'debark',\n",
       " 'debarked',\n",
       " 'debauch',\n",
       " 'debauched',\n",
       " 'debited',\n",
       " 'decanted',\n",
       " 'decolonize',\n",
       " 'decolonized',\n",
       " 'defecate',\n",
       " 'defecated',\n",
       " 'defile',\n",
       " 'defiled',\n",
       " 'defrosted',\n",
       " 'depopulated',\n",
       " 'desisted',\n",
       " 'desolated',\n",
       " 'despoil',\n",
       " 'despoiled',\n",
       " 'destine',\n",
       " 'dialled',\n",
       " 'dieted',\n",
       " 'dirtied',\n",
       " 'disbelieved',\n",
       " 'discolour',\n",
       " 'discoloured',\n",
       " 'discomfit',\n",
       " 'discomfited',\n",
       " 'disconcerted',\n",
       " 'disembarked',\n",
       " 'disembowel',\n",
       " 'disembowelled',\n",
       " 'disenchant',\n",
       " 'disentangled',\n",
       " 'dishearten',\n",
       " 'dishonour',\n",
       " 'dishonoured',\n",
       " 'disinfected',\n",
       " 'disinherit',\n",
       " 'disinherited',\n",
       " 'disinter',\n",
       " 'disinterred',\n",
       " 'dismount',\n",
       " 'dismounted',\n",
       " 'disorientate',\n",
       " 'disorientated',\n",
       " 'dispirit',\n",
       " 'disport',\n",
       " 'disported',\n",
       " 'disquieted',\n",
       " 'dissembled',\n",
       " 'dissociated',\n",
       " 'divined',\n",
       " 'dizzied',\n",
       " 'doffed',\n",
       " 'domineered',\n",
       " 'doodled',\n",
       " 'dosed',\n",
       " 'double-checked',\n",
       " 'double-cross',\n",
       " 'double-crossed',\n",
       " 'drat',\n",
       " 'dratted',\n",
       " 'drooled',\n",
       " 'drowse',\n",
       " 'drowsed',\n",
       " 'duelled',\n",
       " 'dwellt',\n",
       " 'dynamited',\n",
       " 'eavesdropped',\n",
       " 'economized',\n",
       " 'eddied',\n",
       " 'edified',\n",
       " 'effaced',\n",
       " 'eloped',\n",
       " 'enamelled',\n",
       " 'endeavoured',\n",
       " 'enervate',\n",
       " 'enervated',\n",
       " 'enfolded',\n",
       " 'enrol',\n",
       " 'enroled',\n",
       " 'entreat',\n",
       " 'entreated',\n",
       " 'equalled',\n",
       " 'equivocated',\n",
       " 'essayed',\n",
       " 'excreted',\n",
       " 'exorcize',\n",
       " 'exorcized',\n",
       " 'expostulate',\n",
       " 'expostulated',\n",
       " 'externalize',\n",
       " 'externalized',\n",
       " 'farrowed',\n",
       " 'farted',\n",
       " 'fathomed',\n",
       " 'fatted',\n",
       " 'favoured',\n",
       " 'fawned',\n",
       " 'feinted',\n",
       " 'fidgeted',\n",
       " 'fizzed',\n",
       " 'flailed',\n",
       " 'flaked',\n",
       " 'flavour',\n",
       " 'flavoured',\n",
       " 'flecked',\n",
       " 'flicked',\n",
       " 'flitted',\n",
       " 'flogged',\n",
       " 'floodlighted',\n",
       " 'flounced',\n",
       " 'floured',\n",
       " 'fluted',\n",
       " 'foamed',\n",
       " 'foraged',\n",
       " 'forbear',\n",
       " 'forbore',\n",
       " 'force-fed',\n",
       " 'force-feed',\n",
       " 'forded',\n",
       " 'foreshorten',\n",
       " 'foreshortened',\n",
       " 'forwent',\n",
       " 'freewheel',\n",
       " 'freewheeled',\n",
       " 'fringed',\n",
       " 'frolicked',\n",
       " 'frothed',\n",
       " 'fulfil',\n",
       " 'fulminated',\n",
       " 'funnelled',\n",
       " 'furl',\n",
       " 'furled',\n",
       " 'furred',\n",
       " 'gabble',\n",
       " 'gabbled',\n",
       " 'galled',\n",
       " 'gambol',\n",
       " 'gambolled',\n",
       " 'gamed',\n",
       " 'gaped',\n",
       " 'garlanded',\n",
       " 'genuflect',\n",
       " 'genuflected',\n",
       " 'gesticulate',\n",
       " 'gesticulated',\n",
       " 'ghosted',\n",
       " 'girded',\n",
       " 'girdled',\n",
       " 'gladdened',\n",
       " 'glimmered',\n",
       " 'glinted',\n",
       " 'gnashed',\n",
       " 'goggled',\n",
       " 'gorged',\n",
       " 'gossipped',\n",
       " 'granulate',\n",
       " 'granulated',\n",
       " 'gravelled',\n",
       " 'greyed',\n",
       " 'grooved',\n",
       " 'grovelled',\n",
       " 'grubbed',\n",
       " 'grudged',\n",
       " 'guffawed',\n",
       " 'gurgled',\n",
       " 'guzzled',\n",
       " 'harboured',\n",
       " 'hared',\n",
       " 'harked',\n",
       " 'harrowed',\n",
       " 'hazarded',\n",
       " 'hazed',\n",
       " 'hectored',\n",
       " 'hewed',\n",
       " 'hibernated',\n",
       " 'hiccupped',\n",
       " 'hived',\n",
       " 'hoed',\n",
       " 'hogged',\n",
       " 'holidayed',\n",
       " 'honked',\n",
       " 'hummed',\n",
       " 'humoured',\n",
       " 'hungered',\n",
       " 'hurtled',\n",
       " 'husbanded',\n",
       " 'ill-treat',\n",
       " 'ill-treated',\n",
       " 'imperilled',\n",
       " 'incriminated',\n",
       " 'indoctrinate',\n",
       " 'ingratiated',\n",
       " 'initialled',\n",
       " 'insetted',\n",
       " 'instil',\n",
       " 'interposed',\n",
       " 'interwove',\n",
       " 'intuited',\n",
       " 'itched',\n",
       " 'jabber',\n",
       " 'jabbered',\n",
       " 'jibbed',\n",
       " 'jigged',\n",
       " 'jiggled',\n",
       " 'jingled',\n",
       " 'jockeyed',\n",
       " 'joggle',\n",
       " 'joggled',\n",
       " 'joshed',\n",
       " 'keened',\n",
       " 'kneaded',\n",
       " 'laboured',\n",
       " 'lacerated',\n",
       " 'lambed',\n",
       " 'lanced',\n",
       " 'lathered',\n",
       " 'laze',\n",
       " 'lazed',\n",
       " 'leer',\n",
       " 'leered',\n",
       " 'levered',\n",
       " 'liaise',\n",
       " 'liaised',\n",
       " 'lilted',\n",
       " 'limbered',\n",
       " 'limed',\n",
       " 'lisped',\n",
       " 'loitered',\n",
       " 'lolled',\n",
       " 'loped',\n",
       " 'lounged',\n",
       " 'lowed',\n",
       " 'lugged',\n",
       " 'lumbered',\n",
       " 'maddened',\n",
       " 'maltreat',\n",
       " 'manacle',\n",
       " 'manacled',\n",
       " 'manoeuvre',\n",
       " 'manoeuvred',\n",
       " 'manured',\n",
       " 'marauded',\n",
       " 'masqueraded',\n",
       " 'matted',\n",
       " 'meddled',\n",
       " 'meditated',\n",
       " 'menstruated',\n",
       " 'merchandised',\n",
       " 'metamorphosed',\n",
       " 'methylate',\n",
       " 'methylated',\n",
       " 'mewed',\n",
       " 'microfilmed',\n",
       " 'mimed',\n",
       " 'mimeographed',\n",
       " 'miscarried',\n",
       " 'miscarry',\n",
       " 'misfired',\n",
       " 'mislay',\n",
       " 'misted',\n",
       " 'modelled',\n",
       " 'mooch',\n",
       " 'mooched',\n",
       " 'mooed',\n",
       " 'mooted',\n",
       " 'moralized',\n",
       " 'mortared',\n",
       " 'mothered',\n",
       " 'motored',\n",
       " 'mottle',\n",
       " 'moulded',\n",
       " 'mouldered',\n",
       " 'moult',\n",
       " 'moulted',\n",
       " 'mucked',\n",
       " 'muffed',\n",
       " 'muss',\n",
       " 'mussed',\n",
       " 'nerved',\n",
       " 'niggle',\n",
       " 'niggled',\n",
       " 'nonplus',\n",
       " 'nuzzled',\n",
       " 'obtruded',\n",
       " 'orate',\n",
       " 'orated',\n",
       " 'orientate',\n",
       " 'outmanoeuvre',\n",
       " 'outmanoeuvred',\n",
       " 'over-ate',\n",
       " 'over-eat',\n",
       " 'over-indulge',\n",
       " 'over-indulged',\n",
       " 'overawe',\n",
       " 'overawed',\n",
       " 'overbalance',\n",
       " 'overbalanced',\n",
       " 'overdressed',\n",
       " 'overmanned',\n",
       " 'palled',\n",
       " 'panelled',\n",
       " 'paralyse',\n",
       " 'paralysed',\n",
       " 'paraphrased',\n",
       " 'particularize',\n",
       " 'particularized',\n",
       " 'partnered',\n",
       " 'partook',\n",
       " 'pealed',\n",
       " 'pecked',\n",
       " 'pencilled',\n",
       " 'perspired',\n",
       " 'picnicked',\n",
       " 'placated',\n",
       " 'play-act',\n",
       " 'play-acted',\n",
       " 'pleated',\n",
       " 'plonk',\n",
       " 'plonked',\n",
       " 'plummetted',\n",
       " 'poled',\n",
       " 'pommelled',\n",
       " 'portended',\n",
       " 'postulated',\n",
       " 'postured',\n",
       " 'pottered',\n",
       " 'pranced',\n",
       " 'pre-empt',\n",
       " 'pre-empted',\n",
       " 'pre-exist',\n",
       " 'pre-existed',\n",
       " 'presupposed',\n",
       " 'prickle',\n",
       " 'prickled',\n",
       " 'propagandized',\n",
       " 'prophesy',\n",
       " 'prospected',\n",
       " 'prostituted',\n",
       " 'prostrated',\n",
       " 'protruded',\n",
       " 'prowled',\n",
       " 'puckered',\n",
       " 'puddled',\n",
       " 'puked',\n",
       " 'pulped',\n",
       " 'pulsate',\n",
       " 'pulsated',\n",
       " 'pulsed',\n",
       " 'pureed',\n",
       " 'purred',\n",
       " 'quaked',\n",
       " 'quarrelled',\n",
       " 'quarried',\n",
       " 'quartered',\n",
       " 'quenched',\n",
       " 'quested',\n",
       " 'queued',\n",
       " 'quibbled',\n",
       " 'quitted',\n",
       " 'quivered',\n",
       " 'ravelled',\n",
       " 'ravish',\n",
       " 'ravished',\n",
       " 're-form',\n",
       " 're-formed',\n",
       " 'rearmed',\n",
       " 'recapitulated',\n",
       " 'reconnoitre',\n",
       " 'reconnoitred',\n",
       " 'reddened',\n",
       " 'redressed',\n",
       " 'reeked',\n",
       " 'reflated',\n",
       " 'refract',\n",
       " 'refracted',\n",
       " 'refuelled',\n",
       " 'regressed',\n",
       " 'regurgitated',\n",
       " 'rehouse',\n",
       " 'rehoused',\n",
       " 'remodelled',\n",
       " 'remount',\n",
       " 'remounted',\n",
       " 'rend',\n",
       " 'rendezvoued',\n",
       " 'reposed',\n",
       " 'reprieved',\n",
       " 'reproached',\n",
       " 'reprove',\n",
       " 'reproved',\n",
       " 'resounded',\n",
       " 'retch',\n",
       " 'retched',\n",
       " 'retold',\n",
       " 'retouch',\n",
       " 'retouched',\n",
       " 'revelled',\n",
       " 'revenged',\n",
       " 'revivified',\n",
       " 'revivify',\n",
       " 'ricochetted',\n",
       " 'riffled',\n",
       " 'rinsed',\n",
       " 'rivalled',\n",
       " 'rive',\n",
       " 'rived',\n",
       " 'romped',\n",
       " 'roomed',\n",
       " 'rouged',\n",
       " 'roughen',\n",
       " 'roughened',\n",
       " 'roved',\n",
       " 'rubber-stamp',\n",
       " 'rubber-stamped',\n",
       " 'rumoured',\n",
       " 'rusticate',\n",
       " 'rusticated',\n",
       " 'rustled',\n",
       " 'salved',\n",
       " 'sanctified',\n",
       " 'satiate',\n",
       " 'satiated',\n",
       " 'satirized',\n",
       " 'sauntered',\n",
       " 'savour',\n",
       " 'savoured',\n",
       " 'scabbed',\n",
       " 'scavenged',\n",
       " 'scooted',\n",
       " 'scrabbled',\n",
       " 'scribed',\n",
       " 'scudded',\n",
       " 'scythed',\n",
       " 'seamed',\n",
       " 'seethed',\n",
       " 'sentimentalize',\n",
       " 'sentimentalized',\n",
       " 'shambled',\n",
       " 'shanghaied',\n",
       " 'shipwrecked',\n",
       " 'shitted',\n",
       " 'short-circuit',\n",
       " 'short-circuited',\n",
       " 'short-list',\n",
       " 'short-listed',\n",
       " 'shovelled',\n",
       " 'shrilled',\n",
       " 'shrimped',\n",
       " 'shrivelled',\n",
       " 'shush',\n",
       " 'shushed',\n",
       " 'sieved',\n",
       " 'signposted',\n",
       " 'silvered',\n",
       " \"ski'd\",\n",
       " 'skimped',\n",
       " 'skirmished',\n",
       " 'skitter',\n",
       " 'skittered',\n",
       " 'skulked',\n",
       " 'slake',\n",
       " 'slaked',\n",
       " 'slaved',\n",
       " 'slewed',\n",
       " 'slink',\n",
       " 'slithered',\n",
       " 'slobbered',\n",
       " 'sloped',\n",
       " 'slopped',\n",
       " 'sloshed',\n",
       " 'slouched',\n",
       " 'slumbered',\n",
       " 'slurped',\n",
       " 'smelted',\n",
       " 'smirked',\n",
       " 'smite',\n",
       " 'smote',\n",
       " 'smoulder',\n",
       " 'smouldered',\n",
       " 'snaked',\n",
       " 'sniffled',\n",
       " 'snigger',\n",
       " 'sniggered',\n",
       " 'snipped',\n",
       " 'snivel',\n",
       " 'snivelled',\n",
       " 'snooped',\n",
       " 'snoozed',\n",
       " 'snored',\n",
       " 'snuffle',\n",
       " 'snuffled',\n",
       " 'snuggled',\n",
       " 'soaped',\n",
       " 'sojourned',\n",
       " 'soldered',\n",
       " 'soldiered',\n",
       " 'sorrowed',\n",
       " 'speared',\n",
       " 'spelt',\n",
       " 'spiralled',\n",
       " 'splay',\n",
       " 'splayed',\n",
       " 'splutter',\n",
       " 'spluttered',\n",
       " 'spoilt',\n",
       " 'spooned',\n",
       " 'spreadeagle',\n",
       " 'spreadeagled',\n",
       " 'squatted',\n",
       " 'squawked',\n",
       " 'squealed',\n",
       " 'squinted',\n",
       " 'squirmed',\n",
       " 'stabled',\n",
       " 'stammered',\n",
       " 'staunched',\n",
       " 'stencilled',\n",
       " 'stomached',\n",
       " 'strafed',\n",
       " 'strewed',\n",
       " 'strummed',\n",
       " 'strutted',\n",
       " 'stultified',\n",
       " 'stupefied',\n",
       " 'stupefy',\n",
       " 'stuttered',\n",
       " 'sublimate',\n",
       " 'sublimated',\n",
       " 'subsisted',\n",
       " 'subsume',\n",
       " 'subsumed',\n",
       " 'suckled',\n",
       " 'sunbathed',\n",
       " 'sunned',\n",
       " 'supped',\n",
       " 'suppurate',\n",
       " 'suppurated',\n",
       " 'swabbed',\n",
       " 'swaddle',\n",
       " 'swaddled',\n",
       " 'swaggered',\n",
       " 'swigged',\n",
       " 'swilled',\n",
       " 'swivelled',\n",
       " 'swot',\n",
       " 'swotted',\n",
       " 'systematize',\n",
       " 'systematized',\n",
       " 'tamped',\n",
       " 'teemed',\n",
       " 'teethed',\n",
       " 'telescoped',\n",
       " 'tenanted',\n",
       " 'tensed',\n",
       " 'threshed',\n",
       " 'throbbed',\n",
       " 'thudded',\n",
       " 'tidied',\n",
       " 'tilled',\n",
       " 'tingled',\n",
       " 'tinned',\n",
       " 'tittered',\n",
       " 'toddled',\n",
       " 'tooted',\n",
       " 'tottered',\n",
       " 'tousle',\n",
       " 'tousled',\n",
       " 'trafficked',\n",
       " 'traipsed',\n",
       " 'tranquillize',\n",
       " 'tranquillized',\n",
       " 'transfigure',\n",
       " 'transfigured',\n",
       " 'transmute',\n",
       " 'transmuted',\n",
       " 'trawl',\n",
       " 'trawled',\n",
       " 'trespassed',\n",
       " 'trilled',\n",
       " 'trolled',\n",
       " 'trussed',\n",
       " 'tunnelled',\n",
       " 'twanged',\n",
       " 'twiddled',\n",
       " 'twittered',\n",
       " 'unbind',\n",
       " 'unbuckle',\n",
       " 'unbuckled',\n",
       " 'uncoupled',\n",
       " 'underlay',\n",
       " 'understudied',\n",
       " 'unhooked',\n",
       " 'unlearn',\n",
       " 'unlearned',\n",
       " 'unravelled',\n",
       " 'unscrew',\n",
       " 'unscrewed',\n",
       " 'untangled',\n",
       " 'upend',\n",
       " 'upended',\n",
       " 'urinated',\n",
       " 'vaunt',\n",
       " 'vegetated',\n",
       " 'vend',\n",
       " 'vended',\n",
       " 'verbalized',\n",
       " 'vibrated',\n",
       " 'volleyed',\n",
       " 'vomited',\n",
       " 'vouchsafe',\n",
       " 'vouchsafed',\n",
       " 'waddled',\n",
       " 'waggle',\n",
       " 'waggled',\n",
       " 'waked',\n",
       " 'wakened',\n",
       " 'walloped',\n",
       " 'waltzed',\n",
       " 'warred',\n",
       " 'welled',\n",
       " 'welshed',\n",
       " 'wetted',\n",
       " 'wheedle',\n",
       " 'wheedled',\n",
       " 'wheezed',\n",
       " 'whimpered',\n",
       " 'whined',\n",
       " 'whinnied',\n",
       " 'whinny',\n",
       " 'whirr',\n",
       " 'whirred',\n",
       " 'whitened',\n",
       " 'wiggled',\n",
       " 'winched',\n",
       " 'wolfed',\n",
       " 'wormed',\n",
       " 'wreathe',\n",
       " 'wreathed',\n",
       " 'wriggled',\n",
       " 'writhed',\n",
       " 'x-rayed',\n",
       " 'yapped',\n",
       " 'yellowed',\n",
       " 'yelped'}"
      ]
     },
     "execution_count": 24,
     "metadata": {},
     "output_type": "execute_result"
    }
   ],
   "source": [
    "orthographic_wordforms_in_morph_db_not_in_transcription_dict = orthographic_wordforms - transcription_orthographic_wordforms_lc\n",
    "len(orthographic_wordforms_in_morph_db_not_in_transcription_dict)\n",
    "orthographic_wordforms_in_morph_db_not_in_transcription_dict"
   ]
  },
  {
   "cell_type": "code",
   "execution_count": 25,
   "metadata": {
    "ExecuteTime": {
     "end_time": "2019-05-14T21:38:16.574832Z",
     "start_time": "2019-05-14T21:38:16.456876Z"
    }
   },
   "outputs": [],
   "source": [
    "lexicon_lc = list(map(lambda row: {'Orthography':row['Orthography'].lower(),\n",
    "                                   'Transcription':row['Transcription']},\n",
    "                      lexicon_in))"
   ]
  },
  {
   "cell_type": "code",
   "execution_count": 26,
   "metadata": {
    "ExecuteTime": {
     "end_time": "2019-05-14T21:38:16.578683Z",
     "start_time": "2019-05-14T21:38:16.576297Z"
    }
   },
   "outputs": [],
   "source": [
    "def findMatchingTranscriptions(orth_lc):\n",
    "    return [r for r in lexicon_lc if r['Orthography'] == orth_lc]"
   ]
  },
  {
   "cell_type": "markdown",
   "metadata": {},
   "source": [
    "# Aligning the morphological DB with the CMU dictionary"
   ]
  },
  {
   "cell_type": "code",
   "execution_count": 27,
   "metadata": {
    "ExecuteTime": {
     "end_time": "2019-05-14T21:38:16.590170Z",
     "start_time": "2019-05-14T21:38:16.579955Z"
    }
   },
   "outputs": [
    {
     "data": {
      "text/plain": [
       "7621"
      ]
     },
     "execution_count": 27,
     "metadata": {},
     "output_type": "execute_result"
    }
   ],
   "source": [
    "alignable_wordforms = {w for w in orthographic_wordforms if w in transcription_orthographic_wordforms_lc}\n",
    "len(alignable_wordforms)"
   ]
  },
  {
   "cell_type": "code",
   "execution_count": 28,
   "metadata": {
    "ExecuteTime": {
     "end_time": "2019-05-14T21:39:07.607103Z",
     "start_time": "2019-05-14T21:38:16.591991Z"
    }
   },
   "outputs": [
    {
     "data": {
      "text/plain": [
       "7621"
      ]
     },
     "execution_count": 28,
     "metadata": {},
     "output_type": "execute_result"
    }
   ],
   "source": [
    "alignable_wordforms_w_unique_transcription = {w for w in alignable_wordforms if len(findMatchingTranscriptions(w)) == 1}\n",
    "len(alignable_wordforms_w_unique_transcription)"
   ]
  },
  {
   "cell_type": "code",
   "execution_count": 29,
   "metadata": {
    "ExecuteTime": {
     "end_time": "2019-05-14T21:39:07.610279Z",
     "start_time": "2019-05-14T21:39:07.608071Z"
    }
   },
   "outputs": [],
   "source": [
    "def findMatchingTranscription(orth_lc):\n",
    "    return findMatchingTranscriptions(orth_lc)[0]"
   ]
  },
  {
   "cell_type": "code",
   "execution_count": 30,
   "metadata": {
    "ExecuteTime": {
     "end_time": "2019-05-14T21:39:07.651181Z",
     "start_time": "2019-05-14T21:39:07.611421Z"
    }
   },
   "outputs": [
    {
     "data": {
      "text/plain": [
       "4253"
      ]
     },
     "execution_count": 30,
     "metadata": {},
     "output_type": "execute_result"
    },
    {
     "data": {
      "text/plain": [
       "3542"
      ]
     },
     "execution_count": 30,
     "metadata": {},
     "output_type": "execute_result"
    }
   ],
   "source": [
    "len(morph_db)\n",
    "alignable_rows = [r for r in morph_db \n",
    "                  if r['Present_Orthography'] in alignable_wordforms and r['Past_Orthography'] in alignable_wordforms]\n",
    "len(alignable_rows)"
   ]
  },
  {
   "cell_type": "code",
   "execution_count": 31,
   "metadata": {
    "ExecuteTime": {
     "end_time": "2019-05-14T21:39:07.656094Z",
     "start_time": "2019-05-14T21:39:07.652593Z"
    }
   },
   "outputs": [
    {
     "data": {
      "text/plain": [
       "{'Present_Transcription': 'dÈu',\n",
       " 'Past_Transcription': 'dÈId',\n",
       " 'Count': '80717',\n",
       " 'Present_Orthography': 'do',\n",
       " 'Past_Orthography': 'did',\n",
       " 'Regular_or_Irregular': 'irreg'}"
      ]
     },
     "execution_count": 31,
     "metadata": {},
     "output_type": "execute_result"
    }
   ],
   "source": [
    "alignable_rows[0]"
   ]
  },
  {
   "cell_type": "code",
   "execution_count": 32,
   "metadata": {
    "ExecuteTime": {
     "end_time": "2019-05-14T21:39:07.669996Z",
     "start_time": "2019-05-14T21:39:07.657887Z"
    }
   },
   "outputs": [
    {
     "data": {
      "text/plain": [
       "{'Orthography': 'did', 'Transcription': 'd.ɪ.d'}"
      ]
     },
     "execution_count": 32,
     "metadata": {},
     "output_type": "execute_result"
    }
   ],
   "source": [
    "findMatchingTranscription('did')"
   ]
  },
  {
   "cell_type": "code",
   "execution_count": 33,
   "metadata": {
    "ExecuteTime": {
     "end_time": "2019-05-14T21:39:07.674321Z",
     "start_time": "2019-05-14T21:39:07.671496Z"
    }
   },
   "outputs": [],
   "source": [
    "def replaceTranscriptions(alignable_row):\n",
    "    r = alignable_row\n",
    "    r['Present_Transcription'] = findMatchingTranscription(r['Present_Orthography'])['Transcription']\n",
    "    r['Past_Transcription'] = findMatchingTranscription(r['Past_Orthography'])['Transcription']\n",
    "    return r"
   ]
  },
  {
   "cell_type": "code",
   "execution_count": 34,
   "metadata": {
    "ExecuteTime": {
     "end_time": "2019-05-14T21:39:55.182459Z",
     "start_time": "2019-05-14T21:39:07.675478Z"
    }
   },
   "outputs": [
    {
     "data": {
      "text/plain": [
       "{'Present_Transcription': 'd.u',\n",
       " 'Past_Transcription': 'd.ɪ.d',\n",
       " 'Count': '80717',\n",
       " 'Present_Orthography': 'do',\n",
       " 'Past_Orthography': 'did',\n",
       " 'Regular_or_Irregular': 'irreg'}"
      ]
     },
     "execution_count": 34,
     "metadata": {},
     "output_type": "execute_result"
    }
   ],
   "source": [
    "replacedDB = list(map(replaceTranscriptions,\n",
    "                      alignable_rows))\n",
    "replacedDB[0]"
   ]
  },
  {
   "cell_type": "markdown",
   "metadata": {},
   "source": [
    "## Export to file"
   ]
  },
  {
   "cell_type": "code",
   "execution_count": 35,
   "metadata": {
    "ExecuteTime": {
     "end_time": "2019-05-14T21:39:55.186165Z",
     "start_time": "2019-05-14T21:39:55.183913Z"
    }
   },
   "outputs": [],
   "source": [
    "replaced_db_fn = 'CELEXFull_w_CMU_transcriptions.tsv'"
   ]
  },
  {
   "cell_type": "code",
   "execution_count": 36,
   "metadata": {
    "ExecuteTime": {
     "end_time": "2019-05-14T21:39:55.271214Z",
     "start_time": "2019-05-14T21:39:55.187291Z"
    }
   },
   "outputs": [],
   "source": [
    "with open(replaced_db_fn, 'w', newline='', encoding='utf-8') as tsvfile:\n",
    "    writer = csv.DictWriter(tsvfile, delimiter='\\t', fieldnames=['Present_Transcription','Past_Transcription','Count','Present_Orthography','Past_Orthography','Regular_or_Irregular'], quoting=csv.QUOTE_NONE, quotechar='@')\n",
    "    writer.writeheader()\n",
    "    writer.writerows(replacedDB)"
   ]
  },
  {
   "cell_type": "code",
   "execution_count": 37,
   "metadata": {
    "ExecuteTime": {
     "end_time": "2019-05-14T21:39:55.400695Z",
     "start_time": "2019-05-14T21:39:55.272890Z"
    }
   },
   "outputs": [
    {
     "name": "stdout",
     "output_type": "stream",
     "text": [
      "     1\tPresent_Transcription\tPast_Transcription\tCount\tPresent_Orthography\tPast_Orthography\tRegular_or_Irregular\r",
      "\r\n",
      "     2\td.u\td.ɪ.d\t80717\tdo\tdid\tirreg\r",
      "\r\n",
      "     3\ts.eɪ\ts.ɛ.d\t76541\tsay\tsaid\tirreg\r",
      "\r\n",
      "     4\tg.oʊ\tw.ɛ.n.t\t51830\tgo\twent\tirreg\r",
      "\r\n",
      "     5\tg.ɛ.t\tg.ɑ.t\t42717\tget\tgot\tirreg\r",
      "\r\n",
      "     6\tn.oʊ\tn.u\t38013\tknow\tknew\tirreg\r",
      "\r\n",
      "     7\ts.i\ts.ɔ\t36958\tsee\tsaw\tirreg\r",
      "\r\n",
      "     8\tθ.ɪ.ŋ.k\tθ.ɔ.t\t35874\tthink\tthought\tirreg\r",
      "\r\n",
      "     9\tk.ʌ.m\tk.eɪ.m\t35152\tcome\tcame\tirreg\r",
      "\r\n",
      "    10\tt.eɪ.k\tt.ʊ.k\t34323\ttake\ttook\tirreg\r",
      "\r\n",
      "    11\tl.ʊ.k\tl.ʊ.k.t\t24165\tlook\tlooked\treg\r",
      "\r\n",
      "    12\tg.ɪ.v\tg.eɪ.v\t22921\tgive\tgave\tirreg\r",
      "\r\n",
      "    13\tw.ɑ.n.t\tw.ɔ.n.t.ɪ.d\t20077\twant\twanted\treg\r",
      "\r\n",
      "    14\tf.aɪ.n.d\tf.aʊ.n.d\t19525\tfind\tfound\tirreg\r",
      "\r\n",
      "    15\tt.ɛ.l\tt.oʊ.l.d\t19040\ttell\ttold\tirreg\r",
      "\r\n",
      "    16\ts.i.m\ts.i.m.d\t15911\tseem\tseemed\treg\r",
      "\r\n",
      "    17\tf.i.l\tf.ɛ.l.t\t15489\tfeel\tfelt\tirreg\r",
      "\r\n",
      "    18\tb.ɪ.k.ʌ.m\tb.ɪ.k.eɪ.m\t14957\tbecome\tbecame\tirreg\r",
      "\r\n",
      "    19\tæ.s.k\tæ.s.k.t\t14651\task\tasked\treg\r",
      "\r\n",
      "    20\tj.u.s\tj.u.z.d\t14307\tuse\tused\treg\r",
      "\r\n",
      "cat: write error: Broken pipe\r\n"
     ]
    }
   ],
   "source": [
    "!cat -n CELEXFull_w_CMU_transcriptions.tsv | head -20"
   ]
  },
  {
   "cell_type": "code",
   "execution_count": 38,
   "metadata": {
    "ExecuteTime": {
     "end_time": "2019-05-14T21:39:55.405551Z",
     "start_time": "2019-05-14T21:39:55.402893Z"
    }
   },
   "outputs": [],
   "source": [
    "just_forms_fn = 'EngVrbs_present_past.tsv'"
   ]
  },
  {
   "cell_type": "code",
   "execution_count": 39,
   "metadata": {
    "ExecuteTime": {
     "end_time": "2019-05-14T21:39:55.417656Z",
     "start_time": "2019-05-14T21:39:55.407340Z"
    }
   },
   "outputs": [
    {
     "data": {
      "text/plain": [
       "{'Present_Transcription': 'd.u', 'Past_Transcription': 'd.ɪ.d'}"
      ]
     },
     "execution_count": 39,
     "metadata": {},
     "output_type": "execute_result"
    }
   ],
   "source": [
    "just_forms = list(map(lambda r:{'Present_Transcription':r['Present_Transcription'],\n",
    "                                'Past_Transcription':r['Past_Transcription']},\n",
    "                      replacedDB))\n",
    "just_forms[0]"
   ]
  },
  {
   "cell_type": "code",
   "execution_count": 40,
   "metadata": {
    "ExecuteTime": {
     "end_time": "2019-05-14T21:39:55.434038Z",
     "start_time": "2019-05-14T21:39:55.419162Z"
    }
   },
   "outputs": [],
   "source": [
    "with open(just_forms_fn, 'w', newline='', encoding='utf-8') as tsvfile:\n",
    "    writer = csv.DictWriter(tsvfile, delimiter='\\t', fieldnames=['Present_Transcription','Past_Transcription'], quoting=csv.QUOTE_NONE, quotechar='@')\n",
    "    writer.writeheader()\n",
    "    writer.writerows(just_forms)"
   ]
  },
  {
   "cell_type": "code",
   "execution_count": 41,
   "metadata": {
    "ExecuteTime": {
     "end_time": "2019-05-14T21:39:55.562266Z",
     "start_time": "2019-05-14T21:39:55.435194Z"
    }
   },
   "outputs": [
    {
     "name": "stdout",
     "output_type": "stream",
     "text": [
      "     1\tPresent_Transcription\tPast_Transcription\r",
      "\r\n",
      "     2\td.u\td.ɪ.d\r",
      "\r\n",
      "     3\ts.eɪ\ts.ɛ.d\r",
      "\r\n",
      "     4\tg.oʊ\tw.ɛ.n.t\r",
      "\r\n",
      "     5\tg.ɛ.t\tg.ɑ.t\r",
      "\r\n",
      "     6\tn.oʊ\tn.u\r",
      "\r\n",
      "     7\ts.i\ts.ɔ\r",
      "\r\n",
      "     8\tθ.ɪ.ŋ.k\tθ.ɔ.t\r",
      "\r\n",
      "     9\tk.ʌ.m\tk.eɪ.m\r",
      "\r\n",
      "    10\tt.eɪ.k\tt.ʊ.k\r",
      "\r\n",
      "    11\tl.ʊ.k\tl.ʊ.k.t\r",
      "\r\n",
      "    12\tg.ɪ.v\tg.eɪ.v\r",
      "\r\n",
      "    13\tw.ɑ.n.t\tw.ɔ.n.t.ɪ.d\r",
      "\r\n",
      "    14\tf.aɪ.n.d\tf.aʊ.n.d\r",
      "\r\n",
      "    15\tt.ɛ.l\tt.oʊ.l.d\r",
      "\r\n",
      "    16\ts.i.m\ts.i.m.d\r",
      "\r\n",
      "    17\tf.i.l\tf.ɛ.l.t\r",
      "\r\n",
      "    18\tb.ɪ.k.ʌ.m\tb.ɪ.k.eɪ.m\r",
      "\r\n",
      "    19\tæ.s.k\tæ.s.k.t\r",
      "\r\n",
      "    20\tj.u.s\tj.u.z.d\r",
      "\r\n",
      "cat: write error: Broken pipe\r\n"
     ]
    }
   ],
   "source": [
    "!cat -n EngVrbs_present_past.tsv | head -20"
   ]
  }
 ],
 "metadata": {
  "kernelspec": {
   "display_name": "Python 3",
   "language": "python",
   "name": "python3"
  },
  "language_info": {
   "codemirror_mode": {
    "name": "ipython",
    "version": 3
   },
   "file_extension": ".py",
   "mimetype": "text/x-python",
   "name": "python",
   "nbconvert_exporter": "python",
   "pygments_lexer": "ipython3",
   "version": "3.6.8"
  },
  "toc": {
   "base_numbering": 1,
   "nav_menu": {},
   "number_sections": true,
   "sideBar": true,
   "skip_h1_title": false,
   "title_cell": "Table of Contents",
   "title_sidebar": "Contents",
   "toc_cell": true,
   "toc_position": {},
   "toc_section_display": true,
   "toc_window_display": true
  }
 },
 "nbformat": 4,
 "nbformat_minor": 2
}
